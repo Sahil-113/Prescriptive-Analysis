{
 "cells": [
  {
   "cell_type": "markdown",
   "id": "a56c4e59",
   "metadata": {},
   "source": [
    "# Load and process the dataset"
   ]
  },
  {
   "cell_type": "code",
   "execution_count": 2,
   "id": "b138e49b",
   "metadata": {},
   "outputs": [],
   "source": [
    "import pandas as pd\n",
    "import numpy as np\n",
    "import matplotlib.pyplot as plt\n",
    "from scipy.optimize import linprog\n",
    "import seaborn as sns"
   ]
  },
  {
   "cell_type": "code",
   "execution_count": 3,
   "id": "3fb7385a",
   "metadata": {},
   "outputs": [
    {
     "data": {
      "text/html": [
       "<div>\n",
       "<style scoped>\n",
       "    .dataframe tbody tr th:only-of-type {\n",
       "        vertical-align: middle;\n",
       "    }\n",
       "\n",
       "    .dataframe tbody tr th {\n",
       "        vertical-align: top;\n",
       "    }\n",
       "\n",
       "    .dataframe thead th {\n",
       "        text-align: right;\n",
       "    }\n",
       "</style>\n",
       "<table border=\"1\" class=\"dataframe\">\n",
       "  <thead>\n",
       "    <tr style=\"text-align: right;\">\n",
       "      <th></th>\n",
       "      <th>Product_Code</th>\n",
       "      <th>Warehouse</th>\n",
       "      <th>Product_Category</th>\n",
       "      <th>Date</th>\n",
       "      <th>Order_Demand</th>\n",
       "    </tr>\n",
       "  </thead>\n",
       "  <tbody>\n",
       "    <tr>\n",
       "      <th>0</th>\n",
       "      <td>Product_0993</td>\n",
       "      <td>Whse_J</td>\n",
       "      <td>Category_028</td>\n",
       "      <td>2012/7/27</td>\n",
       "      <td>100</td>\n",
       "    </tr>\n",
       "    <tr>\n",
       "      <th>1</th>\n",
       "      <td>Product_0979</td>\n",
       "      <td>Whse_J</td>\n",
       "      <td>Category_028</td>\n",
       "      <td>2012/1/19</td>\n",
       "      <td>500</td>\n",
       "    </tr>\n",
       "    <tr>\n",
       "      <th>2</th>\n",
       "      <td>Product_0979</td>\n",
       "      <td>Whse_J</td>\n",
       "      <td>Category_028</td>\n",
       "      <td>2012/2/3</td>\n",
       "      <td>500</td>\n",
       "    </tr>\n",
       "    <tr>\n",
       "      <th>3</th>\n",
       "      <td>Product_0979</td>\n",
       "      <td>Whse_J</td>\n",
       "      <td>Category_028</td>\n",
       "      <td>2012/2/9</td>\n",
       "      <td>500</td>\n",
       "    </tr>\n",
       "    <tr>\n",
       "      <th>4</th>\n",
       "      <td>Product_0979</td>\n",
       "      <td>Whse_J</td>\n",
       "      <td>Category_028</td>\n",
       "      <td>2012/3/2</td>\n",
       "      <td>500</td>\n",
       "    </tr>\n",
       "    <tr>\n",
       "      <th>5</th>\n",
       "      <td>Product_0979</td>\n",
       "      <td>Whse_J</td>\n",
       "      <td>Category_028</td>\n",
       "      <td>2012/4/19</td>\n",
       "      <td>500</td>\n",
       "    </tr>\n",
       "    <tr>\n",
       "      <th>6</th>\n",
       "      <td>Product_0979</td>\n",
       "      <td>Whse_J</td>\n",
       "      <td>Category_028</td>\n",
       "      <td>2012/6/5</td>\n",
       "      <td>500</td>\n",
       "    </tr>\n",
       "    <tr>\n",
       "      <th>7</th>\n",
       "      <td>Product_0979</td>\n",
       "      <td>Whse_J</td>\n",
       "      <td>Category_028</td>\n",
       "      <td>2012/6/27</td>\n",
       "      <td>500</td>\n",
       "    </tr>\n",
       "    <tr>\n",
       "      <th>8</th>\n",
       "      <td>Product_0979</td>\n",
       "      <td>Whse_J</td>\n",
       "      <td>Category_028</td>\n",
       "      <td>2012/7/23</td>\n",
       "      <td>500</td>\n",
       "    </tr>\n",
       "    <tr>\n",
       "      <th>9</th>\n",
       "      <td>Product_0979</td>\n",
       "      <td>Whse_J</td>\n",
       "      <td>Category_028</td>\n",
       "      <td>2012/8/29</td>\n",
       "      <td>500</td>\n",
       "    </tr>\n",
       "  </tbody>\n",
       "</table>\n",
       "</div>"
      ],
      "text/plain": [
       "   Product_Code Warehouse Product_Category       Date Order_Demand\n",
       "0  Product_0993    Whse_J     Category_028  2012/7/27         100 \n",
       "1  Product_0979    Whse_J     Category_028  2012/1/19         500 \n",
       "2  Product_0979    Whse_J     Category_028   2012/2/3         500 \n",
       "3  Product_0979    Whse_J     Category_028   2012/2/9         500 \n",
       "4  Product_0979    Whse_J     Category_028   2012/3/2         500 \n",
       "5  Product_0979    Whse_J     Category_028  2012/4/19         500 \n",
       "6  Product_0979    Whse_J     Category_028   2012/6/5         500 \n",
       "7  Product_0979    Whse_J     Category_028  2012/6/27         500 \n",
       "8  Product_0979    Whse_J     Category_028  2012/7/23         500 \n",
       "9  Product_0979    Whse_J     Category_028  2012/8/29         500 "
      ]
     },
     "execution_count": 3,
     "metadata": {},
     "output_type": "execute_result"
    }
   ],
   "source": [
    "data  = pd.read_csv(\"downloads/Historical Product Demand.csv\")\n",
    "data.head(10)"
   ]
  },
  {
   "cell_type": "markdown",
   "id": "eb48b8db",
   "metadata": {},
   "source": [
    "# Data Exploration "
   ]
  },
  {
   "cell_type": "code",
   "execution_count": 4,
   "id": "1a95fe99",
   "metadata": {},
   "outputs": [
    {
     "data": {
      "text/plain": [
       "(1048575, 5)"
      ]
     },
     "execution_count": 4,
     "metadata": {},
     "output_type": "execute_result"
    }
   ],
   "source": [
    "data.shape"
   ]
  },
  {
   "cell_type": "code",
   "execution_count": 5,
   "id": "fcef8ea6",
   "metadata": {},
   "outputs": [
    {
     "data": {
      "text/html": [
       "<div>\n",
       "<style scoped>\n",
       "    .dataframe tbody tr th:only-of-type {\n",
       "        vertical-align: middle;\n",
       "    }\n",
       "\n",
       "    .dataframe tbody tr th {\n",
       "        vertical-align: top;\n",
       "    }\n",
       "\n",
       "    .dataframe thead th {\n",
       "        text-align: right;\n",
       "    }\n",
       "</style>\n",
       "<table border=\"1\" class=\"dataframe\">\n",
       "  <thead>\n",
       "    <tr style=\"text-align: right;\">\n",
       "      <th></th>\n",
       "      <th>Product_Code</th>\n",
       "      <th>Warehouse</th>\n",
       "      <th>Product_Category</th>\n",
       "      <th>Date</th>\n",
       "      <th>Order_Demand</th>\n",
       "    </tr>\n",
       "  </thead>\n",
       "  <tbody>\n",
       "    <tr>\n",
       "      <th>count</th>\n",
       "      <td>1048575</td>\n",
       "      <td>1048575</td>\n",
       "      <td>1048575</td>\n",
       "      <td>1037336</td>\n",
       "      <td>1048575</td>\n",
       "    </tr>\n",
       "    <tr>\n",
       "      <th>unique</th>\n",
       "      <td>2160</td>\n",
       "      <td>4</td>\n",
       "      <td>33</td>\n",
       "      <td>1729</td>\n",
       "      <td>3828</td>\n",
       "    </tr>\n",
       "    <tr>\n",
       "      <th>top</th>\n",
       "      <td>Product_1359</td>\n",
       "      <td>Whse_J</td>\n",
       "      <td>Category_019</td>\n",
       "      <td>2013/9/27</td>\n",
       "      <td>1000</td>\n",
       "    </tr>\n",
       "    <tr>\n",
       "      <th>freq</th>\n",
       "      <td>16936</td>\n",
       "      <td>764447</td>\n",
       "      <td>481099</td>\n",
       "      <td>2075</td>\n",
       "      <td>112682</td>\n",
       "    </tr>\n",
       "  </tbody>\n",
       "</table>\n",
       "</div>"
      ],
      "text/plain": [
       "        Product_Code Warehouse Product_Category       Date Order_Demand\n",
       "count        1048575   1048575          1048575    1037336      1048575\n",
       "unique          2160         4               33       1729         3828\n",
       "top     Product_1359    Whse_J     Category_019  2013/9/27        1000 \n",
       "freq           16936    764447           481099       2075       112682"
      ]
     },
     "execution_count": 5,
     "metadata": {},
     "output_type": "execute_result"
    }
   ],
   "source": [
    "data.describe()"
   ]
  },
  {
   "cell_type": "code",
   "execution_count": 6,
   "id": "6d51b824",
   "metadata": {},
   "outputs": [
    {
     "name": "stdout",
     "output_type": "stream",
     "text": [
      "<class 'pandas.core.frame.DataFrame'>\n",
      "RangeIndex: 1048575 entries, 0 to 1048574\n",
      "Data columns (total 5 columns):\n",
      " #   Column            Non-Null Count    Dtype \n",
      "---  ------            --------------    ----- \n",
      " 0   Product_Code      1048575 non-null  object\n",
      " 1   Warehouse         1048575 non-null  object\n",
      " 2   Product_Category  1048575 non-null  object\n",
      " 3   Date              1037336 non-null  object\n",
      " 4   Order_Demand      1048575 non-null  object\n",
      "dtypes: object(5)\n",
      "memory usage: 40.0+ MB\n"
     ]
    }
   ],
   "source": [
    "data.info()"
   ]
  },
  {
   "cell_type": "markdown",
   "id": "c90640cb",
   "metadata": {},
   "source": [
    "# Data Cleaning"
   ]
  },
  {
   "cell_type": "code",
   "execution_count": 7,
   "id": "3b8e9763",
   "metadata": {},
   "outputs": [
    {
     "data": {
      "text/html": [
       "<div>\n",
       "<style scoped>\n",
       "    .dataframe tbody tr th:only-of-type {\n",
       "        vertical-align: middle;\n",
       "    }\n",
       "\n",
       "    .dataframe tbody tr th {\n",
       "        vertical-align: top;\n",
       "    }\n",
       "\n",
       "    .dataframe thead th {\n",
       "        text-align: right;\n",
       "    }\n",
       "</style>\n",
       "<table border=\"1\" class=\"dataframe\">\n",
       "  <thead>\n",
       "    <tr style=\"text-align: right;\">\n",
       "      <th></th>\n",
       "      <th>Product_Code</th>\n",
       "      <th>Warehouse</th>\n",
       "      <th>Product_Category</th>\n",
       "      <th>Date</th>\n",
       "      <th>Order_Demand</th>\n",
       "    </tr>\n",
       "  </thead>\n",
       "  <tbody>\n",
       "    <tr>\n",
       "      <th>1970-01-01 00:00:00.000000000</th>\n",
       "      <td>Product_0993</td>\n",
       "      <td>Whse_J</td>\n",
       "      <td>Category_028</td>\n",
       "      <td>2012-07-27</td>\n",
       "      <td>100</td>\n",
       "    </tr>\n",
       "    <tr>\n",
       "      <th>1970-01-01 00:00:00.000000001</th>\n",
       "      <td>Product_0979</td>\n",
       "      <td>Whse_J</td>\n",
       "      <td>Category_028</td>\n",
       "      <td>2012-01-19</td>\n",
       "      <td>500</td>\n",
       "    </tr>\n",
       "    <tr>\n",
       "      <th>1970-01-01 00:00:00.000000002</th>\n",
       "      <td>Product_0979</td>\n",
       "      <td>Whse_J</td>\n",
       "      <td>Category_028</td>\n",
       "      <td>2012-02-03</td>\n",
       "      <td>500</td>\n",
       "    </tr>\n",
       "    <tr>\n",
       "      <th>1970-01-01 00:00:00.000000003</th>\n",
       "      <td>Product_0979</td>\n",
       "      <td>Whse_J</td>\n",
       "      <td>Category_028</td>\n",
       "      <td>2012-02-09</td>\n",
       "      <td>500</td>\n",
       "    </tr>\n",
       "    <tr>\n",
       "      <th>1970-01-01 00:00:00.000000004</th>\n",
       "      <td>Product_0979</td>\n",
       "      <td>Whse_J</td>\n",
       "      <td>Category_028</td>\n",
       "      <td>2012-03-02</td>\n",
       "      <td>500</td>\n",
       "    </tr>\n",
       "    <tr>\n",
       "      <th>...</th>\n",
       "      <td>...</td>\n",
       "      <td>...</td>\n",
       "      <td>...</td>\n",
       "      <td>...</td>\n",
       "      <td>...</td>\n",
       "    </tr>\n",
       "    <tr>\n",
       "      <th>1970-01-01 00:00:00.001048570</th>\n",
       "      <td>Product_1791</td>\n",
       "      <td>Whse_J</td>\n",
       "      <td>Category_006</td>\n",
       "      <td>2016-04-27</td>\n",
       "      <td>1000</td>\n",
       "    </tr>\n",
       "    <tr>\n",
       "      <th>1970-01-01 00:00:00.001048571</th>\n",
       "      <td>Product_1974</td>\n",
       "      <td>Whse_J</td>\n",
       "      <td>Category_006</td>\n",
       "      <td>2016-04-27</td>\n",
       "      <td>1</td>\n",
       "    </tr>\n",
       "    <tr>\n",
       "      <th>1970-01-01 00:00:00.001048572</th>\n",
       "      <td>Product_1787</td>\n",
       "      <td>Whse_J</td>\n",
       "      <td>Category_006</td>\n",
       "      <td>2016-04-28</td>\n",
       "      <td>2500</td>\n",
       "    </tr>\n",
       "    <tr>\n",
       "      <th>1970-01-01 00:00:00.001048573</th>\n",
       "      <td>Product_0901</td>\n",
       "      <td>Whse_J</td>\n",
       "      <td>Category_023</td>\n",
       "      <td>2016-10-07</td>\n",
       "      <td>50</td>\n",
       "    </tr>\n",
       "    <tr>\n",
       "      <th>1970-01-01 00:00:00.001048574</th>\n",
       "      <td>Product_0704</td>\n",
       "      <td>Whse_J</td>\n",
       "      <td>Category_001</td>\n",
       "      <td>2016-06-27</td>\n",
       "      <td>4</td>\n",
       "    </tr>\n",
       "  </tbody>\n",
       "</table>\n",
       "<p>1048575 rows × 5 columns</p>\n",
       "</div>"
      ],
      "text/plain": [
       "                               Product_Code Warehouse Product_Category  \\\n",
       "1970-01-01 00:00:00.000000000  Product_0993    Whse_J     Category_028   \n",
       "1970-01-01 00:00:00.000000001  Product_0979    Whse_J     Category_028   \n",
       "1970-01-01 00:00:00.000000002  Product_0979    Whse_J     Category_028   \n",
       "1970-01-01 00:00:00.000000003  Product_0979    Whse_J     Category_028   \n",
       "1970-01-01 00:00:00.000000004  Product_0979    Whse_J     Category_028   \n",
       "...                                     ...       ...              ...   \n",
       "1970-01-01 00:00:00.001048570  Product_1791    Whse_J     Category_006   \n",
       "1970-01-01 00:00:00.001048571  Product_1974    Whse_J     Category_006   \n",
       "1970-01-01 00:00:00.001048572  Product_1787    Whse_J     Category_006   \n",
       "1970-01-01 00:00:00.001048573  Product_0901    Whse_J     Category_023   \n",
       "1970-01-01 00:00:00.001048574  Product_0704    Whse_J     Category_001   \n",
       "\n",
       "                                    Date Order_Demand  \n",
       "1970-01-01 00:00:00.000000000 2012-07-27         100   \n",
       "1970-01-01 00:00:00.000000001 2012-01-19         500   \n",
       "1970-01-01 00:00:00.000000002 2012-02-03         500   \n",
       "1970-01-01 00:00:00.000000003 2012-02-09         500   \n",
       "1970-01-01 00:00:00.000000004 2012-03-02         500   \n",
       "...                                  ...          ...  \n",
       "1970-01-01 00:00:00.001048570 2016-04-27        1000   \n",
       "1970-01-01 00:00:00.001048571 2016-04-27           1   \n",
       "1970-01-01 00:00:00.001048572 2016-04-28        2500   \n",
       "1970-01-01 00:00:00.001048573 2016-10-07          50   \n",
       "1970-01-01 00:00:00.001048574 2016-06-27           4   \n",
       "\n",
       "[1048575 rows x 5 columns]"
      ]
     },
     "execution_count": 7,
     "metadata": {},
     "output_type": "execute_result"
    }
   ],
   "source": [
    "data.isnull().sum\n",
    "data['Date']=pd.to_datetime(data['Date'],errors='coerce')\n",
    "data.Date.sort_values().unique()[:10]\n",
    "data.index=pd.to_datetime(data.index)\n",
    "data"
   ]
  },
  {
   "cell_type": "markdown",
   "id": "f176476a",
   "metadata": {},
   "source": [
    "# Data Visualization"
   ]
  },
  {
   "cell_type": "code",
   "execution_count": 8,
   "id": "d5b9c6ee",
   "metadata": {},
   "outputs": [
    {
     "data": {
      "text/plain": [
       "<Axes: xlabel='Warehouse', ylabel='count'>"
      ]
     },
     "execution_count": 8,
     "metadata": {},
     "output_type": "execute_result"
    },
    {
     "data": {
      "image/png": "[encoded data removed]",
      "text/plain": [
       "<Figure size 640x480 with 1 Axes>"
      ]
     },
     "metadata": {},
     "output_type": "display_data"
    }
   ],
   "source": [
    "sns.countplot(x='Warehouse',data=data)"
   ]
  },
  {
   "cell_type": "code",
   "execution_count": null,
   "id": "992343fe",
   "metadata": {},
   "outputs": [],
   "source": []
  },
  {
   "cell_type": "code",
   "execution_count": 9,
   "id": "41904ee4",
   "metadata": {},
   "outputs": [
    {
     "data": {
      "text/plain": [
       "Warehouse\n",
       "Whse_A    50 6000 5000 6000 3900 2100 5000 200 100 100 1...\n",
       "Whse_C    2000 2000 5000 2000 5000 6000 10000 2000 1000 ...\n",
       "Whse_J    100 500 500 500 500 500 500 500 500 500 500 50...\n",
       "Whse_S    3000 5000 15000 2000 100 300 200 2000 2000 500...\n",
       "Name: Order_Demand, dtype: object"
      ]
     },
     "execution_count": 9,
     "metadata": {},
     "output_type": "execute_result"
    }
   ],
   "source": [
    "warehouse_Demand=data.groupby('Warehouse')['Order_Demand'].sum()\n",
    "warehouse_Demand"
   ]
  },
  {
   "cell_type": "code",
   "execution_count": null,
   "id": "1fc74059",
   "metadata": {},
   "outputs": [],
   "source": [
    "# Average Demand\n",
    "demand=data[\"Order_Demand\"].mean()\n",
    "demand"
   ]
  },
  {
   "cell_type": "code",
   "execution_count": null,
   "id": "4c2b0ea9",
   "metadata": {},
   "outputs": [],
   "source": [
    "# Step 2: Linear Programming Model"
   ]
  },
  {
   "cell_type": "code",
   "execution_count": null,
   "id": "11b3695e",
   "metadata": {},
   "outputs": [],
   "source": [
    "# Total Demand\n",
    "initial_inventory=data[\"Order_Demand\"].sum()\n",
    "initial_inventory"
   ]
  },
  {
   "cell_type": "code",
   "execution_count": null,
   "id": "f5e00fe2",
   "metadata": {},
   "outputs": [],
   "source": [
    "# maximum inventory\n",
    "max_inventory=initial_inventory*2\n",
    "max_inventory"
   ]
  },
  {
   "cell_type": "code",
   "execution_count": null,
   "id": "4274b9c3",
   "metadata": {},
   "outputs": [],
   "source": [
    "# Example holding cost per unit day\n",
    "holding_cost=2\n",
    "# Example ordering cost per order\n",
    "ordering_cost=50\n",
    "# no of days to hold inventory\n",
    "holding_days=30\n",
    "# Cost function\n",
    "c=[holding_cost*holding_days+ordering_cost]\n",
    "c"
   ]
  },
  {
   "cell_type": "code",
   "execution_count": null,
   "id": "84a85a60",
   "metadata": {},
   "outputs": [],
   "source": [
    "A=[[-1],[1]]\n",
    "B=[-demand,max_inventory-initial_inventory]\n",
    "bounds=[[0,None]]"
   ]
  },
  {
   "cell_type": "markdown",
   "id": "af1dfa62",
   "metadata": {},
   "source": [
    "# Solving Optimization Problem"
   ]
  },
  {
   "cell_type": "code",
   "execution_count": null,
   "id": "b6dc4548",
   "metadata": {},
   "outputs": [],
   "source": [
    "x=linprog(c,A_ub=A,b_ub=B,bounds=bounds)\n",
    "x"
   ]
  },
  {
   "cell_type": "code",
   "execution_count": null,
   "id": "2c6bf860",
   "metadata": {},
   "outputs": [],
   "source": [
    "#Optimal order quantity\n",
    "optimal_order_quantity=x.x[0]\n",
    "total_cost=x.fun\n",
    "optimal_order_quantity"
   ]
  },
  {
   "cell_type": "markdown",
   "id": "00c11706",
   "metadata": {},
   "source": [
    "# Sensitivity Analysis"
   ]
  },
  {
   "cell_type": "code",
   "execution_count": null,
   "id": "7b22964b",
   "metadata": {},
   "outputs": [],
   "source": [
    "# 20% increase in demand\n",
    "demand_change=1.2\n",
    "# 20% decrease in demand\n",
    "holding_cost_change=0.8\n",
    "# 50% increase in lead time\n",
    "lead_time_change=1.5"
   ]
  },
  {
   "cell_type": "code",
   "execution_count": null,
   "id": "d4357ba9",
   "metadata": {},
   "outputs": [],
   "source": [
    "new_demand=demand*demand_change\n",
    "new_holding_cost=holding_cost*holding_cost_change\n",
    "new_lead_time=holding_days*holding_cost_change"
   ]
  },
  {
   "cell_type": "code",
   "execution_count": null,
   "id": "adf2a676",
   "metadata": {},
   "outputs": [],
   "source": [
    "new_demand"
   ]
  },
  {
   "cell_type": "code",
   "execution_count": null,
   "id": "ace311ce",
   "metadata": {},
   "outputs": [],
   "source": [
    "new_holding_cost"
   ]
  },
  {
   "cell_type": "code",
   "execution_count": null,
   "id": "18cd8258",
   "metadata": {},
   "outputs": [],
   "source": [
    "new_lead_time"
   ]
  },
  {
   "cell_type": "code",
   "execution_count": null,
   "id": "aa4141e7",
   "metadata": {},
   "outputs": [],
   "source": [
    "def sensitivity_analysis(demand_change,holding_cost_change,lead_time_change):\n",
    "    new_demand=demand*demand_change\n",
    "    new_holding_cost=holding_cost*holding_cost_change\n",
    "    new_lead_time=holding-days*holding_cost_change\n",
    "    new_c=[new_holding_cost+ordering_cost]\n",
    "    new_b=[inew_demand,max_inventory-initial_inventory]\n",
    "    new_x=linprog(new_c,A_ub=A,b_ub=new_b,bounds=bounds)\n",
    "    new_optimal_order_quabtity=new_x.x[0]\n",
    "    new_total_cost=new_x.fun\n",
    "    print(\"New optimal order quantity : \",new_optimal_order_quantity)\n",
    "    print(\"New total cost : \",new_total_cost)\n",
    "    return new_optimal_order_quantity,new_total_cost\n",
    "    "
   ]
  },
  {
   "cell_type": "code",
   "execution_count": null,
   "id": "58501b14",
   "metadata": {},
   "outputs": [],
   "source": [
    "optimal_order_quantity_sensitivity,total_cost_sensitivity=sensitivity_analysis(demand_change,holding_cost_change,lead_time_change)\n"
   ]
  },
  {
   "cell_type": "code",
   "execution_count": null,
   "id": "8d8ef1cd",
   "metadata": {},
   "outputs": [],
   "source": [
    "print(\"Sensitivity Analysis :\")\n",
    "print(\"Optimal order (Sensitivity):\",optimal_order_quantity_sensitivity)\n",
    "print(\"Total cost Sensitivity : \",total_cost_sensitivity)"
   ]
  },
  {
   "cell_type": "code",
   "execution_count": null,
   "id": "ce59675d",
   "metadata": {},
   "outputs": [],
   "source": [
    "labels=['original',\"Sensitivity\"]\n",
    "total_costs=[total_cost,total_cost_sensitivity]\n",
    "plt.bar(labels,total_costs,color=['pink','purple'])\n",
    "plt.xlabel(\"Scenario\")\n",
    "plt.ylabel(\"Total Cost\")\n",
    "plt.title(\"Total Cost Comparison\")\n",
    "plt.show()"
   ]
  },
  {
   "cell_type": "code",
   "execution_count": null,
   "id": "0760ccf7",
   "metadata": {},
   "outputs": [],
   "source": [
    "labels=['Original','Sensitivity']\n",
    "optimal_orders=[optimal_order_quantity,optimal_order_quantity_sensitivity]\n",
    "plt.bar(labels,optimal_orders,color=(['pink','purple']))\n",
    "plt.xlabel(\"Scenario\")\n",
    "plt.ylabel(\"Optimal Orders\")\n",
    "plt.title(\"optimal order comparison\")\n",
    "plt.show()"
   ]
  },
  {
   "cell_type": "code",
   "execution_count": null,
   "id": "94b324cd",
   "metadata": {},
   "outputs": [],
   "source": []
  }
 ],
 "metadata": {
  "kernelspec": {
   "display_name": "Python 3 (ipykernel)",
   "language": "python",
   "name": "python3"
  },
  "language_info": {
   "codemirror_mode": {
    "name": "ipython",
    "version": 3
   },
   "file_extension": ".py",
   "mimetype": "text/x-python",
   "name": "python",
   "nbconvert_exporter": "python",
   "pygments_lexer": "ipython3",
   "version": "3.11.5"
  }
 },
 "nbformat": 4,
 "nbformat_minor": 5
}
